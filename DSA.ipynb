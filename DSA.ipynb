{
 "cells": [
  {
   "cell_type": "markdown",
   "metadata": {},
   "source": [
    "Algorithm: Find The Lowest Value in an Array"
   ]
  },
  {
   "cell_type": "code",
   "execution_count": 2,
   "metadata": {},
   "outputs": [
    {
     "name": "stdout",
     "output_type": "stream",
     "text": [
      "Lowest value:  4\n"
     ]
    }
   ],
   "source": [
    "my_array= [7,12,9,4,11]\n",
    "minival=my_array[0]\n",
    "\n",
    "for i in my_array:\n",
    "    if i < minival:\n",
    "        minval= i \n",
    "\n",
    "print('Lowest value: ',minval)"
   ]
  },
  {
   "cell_type": "markdown",
   "metadata": {},
   "source": [
    "Bubble Sort Implementation"
   ]
  },
  {
   "cell_type": "code",
   "execution_count": 3,
   "metadata": {},
   "outputs": [
    {
     "name": "stdout",
     "output_type": "stream",
     "text": [
      "Sorted array: [34, 25, 12, 22, 11, 64, 5, 90]\n",
      "Sorted array: [25, 12, 22, 11, 34, 5, 64, 90]\n",
      "Sorted array: [12, 22, 11, 25, 5, 34, 64, 90]\n",
      "Sorted array: [12, 11, 22, 5, 25, 34, 64, 90]\n",
      "Sorted array: [11, 12, 5, 22, 25, 34, 64, 90]\n",
      "Sorted array: [11, 5, 12, 22, 25, 34, 64, 90]\n",
      "Sorted array: [5, 11, 12, 22, 25, 34, 64, 90]\n"
     ]
    }
   ],
   "source": [
    "my_array= [64,34,25,12,22,11,90,5]\n",
    "\n",
    "n=len(my_array)\n",
    "\n",
    "for i in range(n-1):\n",
    "    for j in range(n-i-1):\n",
    "        if my_array[j] > my_array[j+1]:\n",
    "            my_array[j], my_array[j+1] = my_array[j+1],my_array[j]\n",
    "\n",
    "    print('Sorted array:',my_array)"
   ]
  }
 ],
 "metadata": {
  "kernelspec": {
   "display_name": "base",
   "language": "python",
   "name": "python3"
  },
  "language_info": {
   "codemirror_mode": {
    "name": "ipython",
    "version": 3
   },
   "file_extension": ".py",
   "mimetype": "text/x-python",
   "name": "python",
   "nbconvert_exporter": "python",
   "pygments_lexer": "ipython3",
   "version": "3.12.7"
  }
 },
 "nbformat": 4,
 "nbformat_minor": 2
}
