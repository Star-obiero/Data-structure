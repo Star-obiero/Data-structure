{
 "cells": [
  {
   "cell_type": "markdown",
   "metadata": {},
   "source": [
    "Algorithm: Find The Lowest Value in an Array"
   ]
  },
  {
   "cell_type": "code",
   "execution_count": 13,
   "metadata": {},
   "outputs": [
    {
     "name": "stdout",
     "output_type": "stream",
     "text": [
      "Lowest value:  4\n"
     ]
    }
   ],
   "source": [
    "my_array= [7,12,9,4,11]\n",
    "minival=my_array[0]\n",
    "\n",
    "for i in my_array:\n",
    "    if i < minival:\n",
    "        minval= i \n",
    "\n",
    "print('Lowest value: ',minval)"
   ]
  },
  {
   "cell_type": "markdown",
   "metadata": {},
   "source": [
    "Bubble Sort Implementation"
   ]
  },
  {
   "cell_type": "code",
   "execution_count": 14,
   "metadata": {},
   "outputs": [
    {
     "name": "stdout",
     "output_type": "stream",
     "text": [
      "Sorted array: [34, 25, 12, 22, 11, 64, 5, 90]\n",
      "Sorted array: [25, 12, 22, 11, 34, 5, 64, 90]\n",
      "Sorted array: [12, 22, 11, 25, 5, 34, 64, 90]\n",
      "Sorted array: [12, 11, 22, 5, 25, 34, 64, 90]\n",
      "Sorted array: [11, 12, 5, 22, 25, 34, 64, 90]\n",
      "Sorted array: [11, 5, 12, 22, 25, 34, 64, 90]\n",
      "Sorted array: [5, 11, 12, 22, 25, 34, 64, 90]\n"
     ]
    }
   ],
   "source": [
    "my_array= [64,34,25,12,22,11,90,5]\n",
    "\n",
    "n=len(my_array)\n",
    "\n",
    "for i in range(n-1):\n",
    "    for j in range(n-i-1):\n",
    "        if my_array[j] > my_array[j+1]:\n",
    "            my_array[j], my_array[j+1] = my_array[j+1],my_array[j]\n",
    "\n",
    "    print('Sorted array:',my_array)"
   ]
  },
  {
   "cell_type": "markdown",
   "metadata": {},
   "source": [
    "Selection Sorting"
   ]
  },
  {
   "cell_type": "code",
   "execution_count": 15,
   "metadata": {},
   "outputs": [
    {
     "name": "stdout",
     "output_type": "stream",
     "text": [
      "Sorted array: [5, 11, 12, 22, 25, 34, 64, 90]\n"
     ]
    }
   ],
   "source": [
    "my_array = [64, 34, 25, 5, 22, 11, 90, 12]\n",
    "n=len(my_array)\n",
    "\n",
    "for i in range(n-1):\n",
    "    min_val=i\n",
    "    for j in range(i+1,n):\n",
    "        if my_array[j]<my_array[min_val]:\n",
    "            min_val=j\n",
    "    min_value=my_array.pop(min_val)\n",
    "    my_array.insert(i,min_value)\n",
    "print('Sorted array:',my_array)"
   ]
  },
  {
   "cell_type": "markdown",
   "metadata": {},
   "source": [
    "Insertion sort implementation"
   ]
  },
  {
   "cell_type": "code",
   "execution_count": 16,
   "metadata": {},
   "outputs": [
    {
     "name": "stdout",
     "output_type": "stream",
     "text": [
      "Sorted array: [5, 11, 12, 22, 25, 34, 64, 90]\n"
     ]
    }
   ],
   "source": [
    "my_array = [64, 34, 25, 12, 22, 11, 90, 5]\n",
    "\n",
    "n=len(my_array)\n",
    "\n",
    "for i in range(1,n):\n",
    "    insert_val=i\n",
    "    current_val=my_array.pop(i)\n",
    "    for j in range(i-1,-1,-1):\n",
    "        if current_val<my_array[j]:\n",
    "            insert_val=j\n",
    "    my_array.insert(insert_val,current_val)\n",
    "print('Sorted array:',my_array)"
   ]
  },
  {
   "cell_type": "markdown",
   "metadata": {},
   "source": [
    "Quick sort Algorithm"
   ]
  },
  {
   "cell_type": "code",
   "execution_count": 17,
   "metadata": {},
   "outputs": [
    {
     "name": "stdout",
     "output_type": "stream",
     "text": [
      "Sorted array: [5, 11, 12, 22, 25, 34, 64, 90]\n"
     ]
    }
   ],
   "source": [
    "def partion(arr,low,high):\n",
    "    pivot=arr[high]\n",
    "    i=low-1\n",
    "    for j in range(low,high):\n",
    "        if arr[j]<=pivot:\n",
    "            i=i+1\n",
    "            arr[i],arr[j]=arr[j],arr[i]\n",
    "    arr[i+1],arr[high]=arr[high],arr[i+1]\n",
    "    return i+1\n",
    "\n",
    "def quick_sort(arr,low,high):\n",
    "    if high is None:\n",
    "        high=len(arr)-1\n",
    "    if low<high:\n",
    "        pivot_inex=partion(arr,low,high)\n",
    "        quick_sort(arr,low,pivot_inex-1)\n",
    "        quick_sort(arr,pivot_inex+1,high)\n",
    "    \n",
    "\n",
    "my_array=[64,34,25,12,22,11,90,5]\n",
    "quick_sort(my_array,0,None)\n",
    "print('Sorted array:',my_array)"
   ]
  },
  {
   "cell_type": "markdown",
   "metadata": {},
   "source": [
    "Stark implementation using arrays"
   ]
  },
  {
   "cell_type": "code",
   "execution_count": 30,
   "metadata": {},
   "outputs": [
    {
     "name": "stdout",
     "output_type": "stream",
     "text": [
      "Stack:  ['A', 'B', 'C']\n"
     ]
    }
   ],
   "source": [
    "class   Stack:\n",
    "    def __init__(self):\n",
    "        self.Stack=[]\n",
    "\n",
    "    def push(self,element):\n",
    "            self .Stack.append(element)\n",
    "    def pop(self):\n",
    "                if self. isEmpty():\n",
    "                    return 'stack is empty'\n",
    "                return self.Stack .pop()\n",
    "    def peek(self):\n",
    "                if self.isEmpty():\n",
    "                    return 'stark is empty'\n",
    "                return self.Stack[-1]\n",
    "    def isEmpty (self):\n",
    "                return len(self.Stack)==0\n",
    "    def size (self):\n",
    "                return len(self.Stack)\n",
    "            \n",
    "\n",
    "myStack = Stack()\n",
    "\n",
    "myStack.push('A')\n",
    "myStack.push('B')\n",
    "myStack.push('C')\n",
    "print(\"Stack: \", myStack.Stack)\n"
   ]
  },
  {
   "cell_type": "markdown",
   "metadata": {},
   "source": [
    "Queue"
   ]
  },
  {
   "cell_type": "code",
   "execution_count": 28,
   "metadata": {},
   "outputs": [
    {
     "name": "stdout",
     "output_type": "stream",
     "text": [
      "Queue <bound method Queue.enqueue of <__main__.Queue object at 0x000002327033B8C0>>\n",
      "Dequeue A\n",
      "peek B\n",
      "isEmpty False\n",
      "size 2\n"
     ]
    }
   ],
   "source": [
    "class Queue:\n",
    "    def __init__(self):\n",
    "        self.queue=[]\n",
    "    def enqueue(self,element):\n",
    "            self.queue.append(element)\n",
    "    def dequeue(self):\n",
    "                if self.isEmpty():\n",
    "                    return 'queue is empty'\n",
    "                return self.queue.pop(0)\n",
    "    def peek(self):\n",
    "                if self. isEmpty():\n",
    "                    return 'queue is empty'\n",
    "                return self.queue[0]\n",
    "    def isEmpty(self):\n",
    "                return len(self.queue)==0\n",
    "    def size(self):\n",
    "                return len(self.queue)\n",
    "            \n",
    "myqueue=Queue()\n",
    "\n",
    "myqueue.enqueue('A')\n",
    "myqueue.enqueue('B')\n",
    "myqueue.enqueue('C')\n",
    "\n",
    "print('Queue',myqueue.enqueue)\n",
    "print('Dequeue',myqueue.dequeue())\n",
    "print('peek',myqueue.peek())\n",
    "print('isEmpty',myqueue.isEmpty())\n",
    "print('size',myqueue.size())\n",
    "            "
   ]
  }
 ],
 "metadata": {
  "kernelspec": {
   "display_name": "base",
   "language": "python",
   "name": "python3"
  },
  "language_info": {
   "codemirror_mode": {
    "name": "ipython",
    "version": 3
   },
   "file_extension": ".py",
   "mimetype": "text/x-python",
   "name": "python",
   "nbconvert_exporter": "python",
   "pygments_lexer": "ipython3",
   "version": "3.12.7"
  }
 },
 "nbformat": 4,
 "nbformat_minor": 2
}
