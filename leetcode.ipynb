{
 "cells": [
  {
   "cell_type": "markdown",
   "metadata": {},
   "source": [
    "Given a signed 32-bit integer x, return x with its digits reversed. \n",
    "If reversing x causes the value to go outside the signed 32-bit integer\n",
    " range [-231, 231 - 1], then return 0.\n"
   ]
  },
  {
   "cell_type": "code",
   "execution_count": null,
   "metadata": {},
   "outputs": [],
   "source": [
    "\n",
    "def reverse(x):\n",
    "        int_min,int_max=-2**31,2**31-1\n",
    "\n",
    "        result= 0\n",
    "        sign=-1 if x < 0 else 1\n",
    "        x = abs(x)\n",
    "\n",
    "        while x != 0:\n",
    "            digit = x % 10\n",
    "            x //=10\n",
    "\n",
    "            if result > (int_max-digit) // 10:\n",
    "                return 0\n",
    "            \n",
    "            result=result * 10 + digit\n",
    "        return sign * result"
   ]
  },
  {
   "cell_type": "code",
   "execution_count": 9,
   "metadata": {},
   "outputs": [
    {
     "name": "stdout",
     "output_type": "stream",
     "text": [
      "321\n"
     ]
    }
   ],
   "source": [
    "\n",
    "print(reverse(123)) "
   ]
  },
  {
   "cell_type": "markdown",
   "metadata": {},
   "source": [
    "Given an integer x, return true if x is a palindrome, and false otherwise."
   ]
  },
  {
   "cell_type": "code",
   "execution_count": 2,
   "metadata": {},
   "outputs": [],
   "source": [
    "def is_palindrome(x:int) -> bool:\n",
    "    if x < 0:\n",
    "        return False\n",
    "    original = x\n",
    "    reversed_num=0\n",
    "    while x !=0:\n",
    "        digit=x%10\n",
    "        x //=  10\n",
    "        reversed_num=reversed_num * 10 + digit\n",
    "    return original== reversed_num"
   ]
  },
  {
   "cell_type": "code",
   "execution_count": 3,
   "metadata": {},
   "outputs": [
    {
     "data": {
      "text/plain": [
       "True"
      ]
     },
     "execution_count": 3,
     "metadata": {},
     "output_type": "execute_result"
    }
   ],
   "source": [
    "is_palindrome(121)"
   ]
  },
  {
   "cell_type": "markdown",
   "metadata": {},
   "source": [
    "Given an array of integers nums, sort the array in ascending order and return it."
   ]
  },
  {
   "cell_type": "code",
   "execution_count": 4,
   "metadata": {},
   "outputs": [],
   "source": [
    "def sort_array(nums):\n",
    "    if len(nums) <= 1:\n",
    "        return nums\n",
    "    \n",
    "    mid =len(nums) //2\n",
    "    left=sort_array(nums[:mid])\n",
    "    right = sort_array(nums[mid:])\n",
    "\n",
    "    return merge (left,right)\n",
    "\n",
    "def merge(left,rigth):\n",
    "    result =[]\n",
    "    i = j=0\n",
    "\n",
    "    while i< len(left) and j<len(rigth):\n",
    "        if left[i] < rigth[j]:\n",
    "            result.append(left[i])\n",
    "            i +=1\n",
    "        else:\n",
    "            result.append(rigth[j])\n",
    "            j +=1\n",
    "\n",
    "    result.extend(left[i:])\n",
    "    result.extend(rigth[j:])\n",
    "\n",
    "    return result"
   ]
  },
  {
   "cell_type": "code",
   "execution_count": 5,
   "metadata": {},
   "outputs": [
    {
     "data": {
      "text/plain": [
       "[1, 2, 3, 5]"
      ]
     },
     "execution_count": 5,
     "metadata": {},
     "output_type": "execute_result"
    }
   ],
   "source": [
    "sort_array([5,2,3,1])"
   ]
  },
  {
   "cell_type": "markdown",
   "metadata": {},
   "source": [
    "Design a food rating system that can do the following:\n",
    "\n",
    "Modify the rating of a food item listed in the system.\n",
    "Return the highest-rated food item for a type of cuisine in the system.\n",
    "Implement the FoodRatings class:\n",
    "\n",
    "`FoodRatings(String[] foods, String[] cuisines, int[] ratings)` Initializes the system. The food items are described by `foods`, `cuisines` and `ratings`, all of which have a length of n.\n",
    "`foods[i]` is the name of the ith food,\n",
    "`cuisines[i]` is the type of cuisine of the ith food, and\n",
    "`ratings[i]` is the initial rating of the ith food.\n",
    "`void changeRating(String food, int newRating)` Changes the rating of the food item with the name `food`.\n",
    "`String highestRated(String cuisine)` Returns the name of the food item that has the highest rating for the given type of `cuisine`. If there is a tie, return the item with the lexicographically smaller name.\n",
    "Note that a string `x` is lexicographically smaller than string `y `if `x` comes before `y` in dictionary order, that is, either `x` is a prefix of `y`, or if i is the first position such that `x[i] != y[i]`, then `x[i]` comes before `y[i]` in alphabetic order."
   ]
  },
  {
   "cell_type": "code",
   "execution_count": 6,
   "metadata": {},
   "outputs": [],
   "source": [
    "import heapq\n",
    "\n",
    "class FoodRatings:\n",
    "\n",
    "    def __init__(self, foods, cuisines, ratings):\n",
    "        self.food_info = {}\n",
    "        self.cuisine_map = {}\n",
    "\n",
    "        for food, cuisine, rating in zip(foods, cuisines, ratings):\n",
    "            self.food_info[food] = [cuisine, rating]\n",
    "            if cuisine not in self.cuisine_map:\n",
    "                self.cuisine_map[cuisine] = []\n",
    "            heapq.heappush(self.cuisine_map[cuisine], (-rating, food))\n",
    "\n",
    "    def changeRating(self, food, newRating):\n",
    "        cuisine, _ = self.food_info[food]\n",
    "        self.food_info[food][1] = newRating\n",
    "        heapq.heappush(self.cuisine_map[cuisine], (-newRating, food))\n",
    "\n",
    "    def highestRated(self, cuisine):\n",
    "        heap = self.cuisine_map[cuisine]\n",
    "        while heap:\n",
    "            rating, food = heap[0]\n",
    "            if -rating == self.food_info[food][1]:\n",
    "                return food\n",
    "            heapq.heappop(heap) \n"
   ]
  },
  {
   "cell_type": "code",
   "execution_count": null,
   "metadata": {},
   "outputs": [
    {
     "name": "stdout",
     "output_type": "stream",
     "text": [
      "kimchi\n",
      "ramen\n",
      "sushi\n"
     ]
    }
   ],
   "source": [
    "foods = [\"kimchi\",\"miso\",\"sushi\",\"moussaka\",\"ramen\",\"bulgogi\"]\n",
    "cuisines = [\"korean\",\"japanese\",\"japanese\",\"greek\",\"japanese\",\"korean\"]\n",
    "ratings = [9,12,8,15,14,7]\n",
    "\n",
    "fr = FoodRatings(foods, cuisines, ratings)\n",
    "\n",
    "print(fr.highestRated(\"korean\"))\n",
    "print(fr.highestRated(\"japanese\"))\n",
    "\n",
    "fr.changeRating(\"sushi\", 16)\n",
    "\n",
    "print(fr.highestRated(\"japanese\"))\n"
   ]
  }
 ],
 "metadata": {
  "kernelspec": {
   "display_name": "base",
   "language": "python",
   "name": "python3"
  },
  "language_info": {
   "codemirror_mode": {
    "name": "ipython",
    "version": 3
   },
   "file_extension": ".py",
   "mimetype": "text/x-python",
   "name": "python",
   "nbconvert_exporter": "python",
   "pygments_lexer": "ipython3",
   "version": "3.12.7"
  }
 },
 "nbformat": 4,
 "nbformat_minor": 2
}
